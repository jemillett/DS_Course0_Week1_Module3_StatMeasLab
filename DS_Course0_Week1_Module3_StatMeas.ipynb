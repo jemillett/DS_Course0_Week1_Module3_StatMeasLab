{
 "cells": [
  {
   "cell_type": "markdown",
   "id": "c460bc8b",
   "metadata": {},
   "source": [
    "# Statistical Measures - Lab"
   ]
  },
  {
   "cell_type": "markdown",
   "id": "d31afd78",
   "metadata": {},
   "source": [
    "## Introduction"
   ]
  },
  {
   "cell_type": "markdown",
   "id": "7e481396",
   "metadata": {},
   "source": [
    "In this lab, you will apply your knowledge of statistical measures with Python to solve a real-world problem. You are a junior analyst for a company that sells widgets for use across many different industries/markets. Your boss has asked you to give her a summary of widget sales across these markets for the past year. She wants to know:\n",
    "\n",
    "- What has been the typical sales volume across markets?\n",
    "- How variable have sales been across the different markets this past year?\n",
    "- How much has the company been characteristically spending in different advertising media (TV, radio, and newspaper) across the different markets for the past year?"
   ]
  },
  {
   "cell_type": "markdown",
   "id": "e5b19ba0",
   "metadata": {},
   "source": [
    "## Objectives"
   ]
  },
  {
   "cell_type": "markdown",
   "id": "2329da3d",
   "metadata": {},
   "source": [
    "You will be able to:\n",
    "- Calculate central tendency within a variable in Python\n",
    "- Create visualizations to showcase central tendency\n",
    "- Compare variables by their central tendency\n",
    "- Calculate dispersion within a variable"
   ]
  },
  {
   "cell_type": "markdown",
   "id": "a537077c",
   "metadata": {
    "ExecuteTime": {
     "end_time": "2024-07-09T15:46:39.290284Z",
     "start_time": "2024-07-09T15:46:39.286522Z"
    }
   },
   "source": [
    "### Sales Data Summary"
   ]
  },
  {
   "cell_type": "markdown",
   "id": "f4c9cdea",
   "metadata": {},
   "source": [
    "You have been given a dataset (in CSV format) that contains sales and advertising budget information that you will require for your analysis. There are four columns:\n",
    "1. `sales`: the number of widgets sold (in thousands)\n",
    "2. `tv`: the amount of money (in thousands of dollars) spent on TV ads\n",
    "3. `radio`: the amount of money (in thousands of dollars) spent on radio ads\n",
    "4. `newspaper`: the amount of money (in thousands of dollars) spent on newspaper ads"
   ]
  },
  {
   "cell_type": "code",
   "execution_count": null,
   "id": "a34906ed",
   "metadata": {
    "ExecuteTime": {
     "end_time": "2024-07-09T15:55:11.132187Z",
     "start_time": "2024-07-09T15:55:11.124278Z"
    }
   },
   "outputs": [],
   "source": [
    "# CodeGrade step0\n",
    "# Run this cell without changes\n",
    "import csv\n",
    "import numpy as np\n",
    "import scipy.stats as stats  # noqa: F401\n"
   ]
  },
  {
   "cell_type": "markdown",
   "id": "63fcbf35",
   "metadata": {},
   "source": [
    "## Step 1"
   ]
  },
  {
   "cell_type": "markdown",
   "id": "12c24801",
   "metadata": {},
   "source": [
    "Use the `csv` `DictReader` to load the dataset into a list of dictionaries and save it to a variable data."
   ]
  },
  {
   "cell_type": "code",
   "execution_count": 3,
   "id": "76fac965",
   "metadata": {
    "ExecuteTime": {
     "end_time": "2024-07-09T15:55:11.135171Z",
     "start_time": "2024-07-09T15:55:11.133494Z"
    }
   },
   "outputs": [],
   "source": [
    "# CodeGrade step1\n",
    "# Replace None with appropriate code\n",
    "\n",
    "with open('Advertising.csv', mode='r') as f:\n",
    "    data = list(csv.DictReader(f))"
   ]
  },
  {
   "cell_type": "markdown",
   "id": "bd9a6c24",
   "metadata": {},
   "source": [
    "## Step 2"
   ]
  },
  {
   "cell_type": "markdown",
   "id": "eb23440a",
   "metadata": {},
   "source": [
    "Extract sales numbers for each market in the dataset as a list and save it to a variable “sales”. Then save TV, Radio, and Newspaper advertising expenditures to lists called “tv”, “radio” and “newspaper” respectively."
   ]
  },
  {
   "cell_type": "code",
   "execution_count": 6,
   "id": "40ba23ef",
   "metadata": {
    "ExecuteTime": {
     "end_time": "2024-07-09T15:55:11.145518Z",
     "start_time": "2024-07-09T15:55:11.136819Z"
    }
   },
   "outputs": [
    {
     "name": "stdout",
     "output_type": "stream",
     "text": [
      "dict_keys(['', 'TV', 'radio', 'newspaper', 'sales'])\n"
     ]
    }
   ],
   "source": [
    "# CodeGrade step2\n",
    "# Replace None with appropriate code\n",
    "\n",
    "# Debugging step: Print the keys of the first row\n",
    "with open('Advertising.csv', mode='r') as f:\n",
    "    data = list(csv.DictReader(f))\n",
    "    print(data[0].keys())  # Check the column names\n",
    "\n",
    "sales = []\n",
    "for row in data:\n",
    "    sales.append(float(row['sales']))  # Use the correct column name\n",
    "\n",
    "tv = []\n",
    "for row in data:\n",
    "    tv.append(float(row['TV']))\n",
    "\n",
    "radio = []\n",
    "for row in data:\n",
    "    radio.append(float(row['radio']))\n",
    "\n",
    "newspaper = []\n",
    "for row in data:\n",
    "    newspaper.append(float(row['newspaper']))"
   ]
  },
  {
   "cell_type": "markdown",
   "id": "d88e2431",
   "metadata": {},
   "source": [
    "## Step 3"
   ]
  },
  {
   "cell_type": "markdown",
   "id": "6b73cccb",
   "metadata": {},
   "source": [
    "Provide a summary of the data by:\n",
    "- Getting the number of markets your company has been engaged in this past year\n",
    "- Use in-built Python functions to get the minimum and maximum sales across all markets operated in."
   ]
  },
  {
   "cell_type": "code",
   "execution_count": 7,
   "id": "a29ddf84",
   "metadata": {
    "ExecuteTime": {
     "end_time": "2024-07-09T15:55:11.164412Z",
     "start_time": "2024-07-09T15:55:11.154531Z"
    }
   },
   "outputs": [],
   "source": [
    "# CodeGrade step3\n",
    "# Replace None with appropriate code\n",
    "\n",
    "num_markets = len(data) \n",
    "mean_sales = np.mean(sales)\n",
    "\n",
    "min_sales = min(sales)\n",
    "max_sales = max(sales)"
   ]
  },
  {
   "cell_type": "code",
   "execution_count": 8,
   "id": "b3d15a19",
   "metadata": {},
   "outputs": [
    {
     "name": "stdout",
     "output_type": "stream",
     "text": [
      "\n",
      "This dataset contains records for 200 markets\n",
      "\n",
      "\n",
      "The fewest sales for any market was 1.6 thousand widgets\n",
      "\n",
      "\n",
      "The most sales for any market was 27.0 thousand widgets\n",
      "\n"
     ]
    }
   ],
   "source": [
    "# Run this cell without changes\n",
    "print(f\"\"\"\n",
    "This dataset contains records for {num_markets} markets\n",
    "\n",
    "\n",
    "The fewest sales for any market was {min_sales} thousand widgets\n",
    "\n",
    "\n",
    "The most sales for any market was {max_sales} thousand widgets\n",
    "\"\"\")"
   ]
  },
  {
   "cell_type": "markdown",
   "id": "a8e96711",
   "metadata": {},
   "source": [
    "Run this code to create a histogram of all sales data:"
   ]
  },
  {
   "cell_type": "code",
   "execution_count": 9,
   "id": "3a6b7480",
   "metadata": {
    "ExecuteTime": {
     "end_time": "2024-07-09T15:55:11.572435Z",
     "start_time": "2024-07-09T15:55:11.166325Z"
    }
   },
   "outputs": [
    {
     "data": {
      "image/png": "[encoded data removed]",
      "text/plain": [
       "<Figure size 1000x500 with 1 Axes>"
      ]
     },
     "metadata": {},
     "output_type": "display_data"
    }
   ],
   "source": [
    "# Run this cell without changes\n",
    "import matplotlib.pyplot as plt\n",
    "%matplotlib inline\n",
    "\n",
    "fig, ax = plt.subplots(figsize=(10, 5))\n",
    "\n",
    "ax.hist(sales, bins=15)\n",
    "\n",
    "ax.set_xlabel(\"Sales (thousands of widgets)\")\n",
    "ax.set_ylabel(\"Count\")\n",
    "\n",
    "ax.set_title(\"Distribution of Sales across Markets\");"
   ]
  },
  {
   "cell_type": "markdown",
   "id": "af7c011c",
   "metadata": {
    "ExecuteTime": {
     "end_time": "2024-07-09T15:55:41.025899Z",
     "start_time": "2024-07-09T15:55:41.014647Z"
    }
   },
   "source": [
    "### Typical Sales Volume"
   ]
  },
  {
   "cell_type": "markdown",
   "id": "27dca59d",
   "metadata": {},
   "source": [
    "Now let us address the first business question: What has been the typical sales volume across markets?"
   ]
  },
  {
   "cell_type": "markdown",
   "id": "8429a376",
   "metadata": {},
   "source": [
    "## Step 4"
   ]
  },
  {
   "cell_type": "markdown",
   "id": "20ada597",
   "metadata": {},
   "source": [
    "Based on the histogram, choose an appropriate measure of central tendency for widget sales. Use whatever method you wish to calculate your chosen metric – making any required imports in the cell."
   ]
  },
  {
   "cell_type": "code",
   "execution_count": 10,
   "id": "22814c5f",
   "metadata": {
    "ExecuteTime": {
     "end_time": "2024-07-09T15:55:11.574943Z",
     "start_time": "2024-07-09T15:55:11.127Z"
    }
   },
   "outputs": [
    {
     "name": "stdout",
     "output_type": "stream",
     "text": [
      "\n",
      "Typical sales volume is 14.022499999999999 thousand widgets\n",
      "\n",
      "\n",
      "\n",
      "\n"
     ]
    }
   ],
   "source": [
    "# CodeGrade step4\n",
    "# Replace None with appropriate code\n",
    "# Make any imports here\n",
    "from statistics import mean\n",
    "\n",
    "# Assign measure_central_tendency to the mean, median, or mode of the sales data\n",
    "\n",
    "measure_central_tendency = mean(sales)\n",
    "\n",
    "print(f\"\"\"\n",
    "Typical sales volume is {measure_central_tendency} thousand widgets\n",
    "\n",
    " \n",
    "\n",
    "\"\"\")"
   ]
  },
  {
   "cell_type": "markdown",
   "id": "c6bdc71a",
   "metadata": {},
   "source": [
    "### Dispersion of Sales Volume"
   ]
  },
  {
   "cell_type": "markdown",
   "id": "5ae97121",
   "metadata": {},
   "source": [
    "Now that we have a number to represent the typical sales volume, let's answer: How variable have sales been across markets?"
   ]
  },
  {
   "cell_type": "markdown",
   "id": "a2eaa9e1",
   "metadata": {},
   "source": [
    "## Step 5"
   ]
  },
  {
   "cell_type": "markdown",
   "id": "ccc613d9",
   "metadata": {},
   "source": [
    "Based on the histogram, choose an appropriate measure of dispersion for widget sales. Use whatever method you wish to calculate your chosen metric – making any required imports in the cell. Have your answer be one value rather than a range."
   ]
  },
  {
   "cell_type": "code",
   "execution_count": null,
   "id": "12b7c5c4",
   "metadata": {
    "ExecuteTime": {
     "end_time": "2024-07-09T15:55:11.575434Z",
     "start_time": "2024-07-09T15:55:11.128Z"
    }
   },
   "outputs": [
    {
     "name": "stdout",
     "output_type": "stream",
     "text": [
      "\n",
      "The standard deviation of sales is 5.217456565710478 thousand widgets\n",
      "The interquartile range of sales is 7.024999999999999 thousand widgets\n",
      "\n",
      "\n",
      "The mean absolute deviation of sales is 4.818457210143207 thousand widgets\n",
      "\n"
     ]
    }
   ],
   "source": [
    "# CodeGrade step5\n",
    "# Replace None or with appropriate code\n",
    "# Make any imports here\n",
    "import numpy as np\n",
    "from statistics import median, mean\n",
    "from scipy.stats import median_abs_deviation\n",
    "\n",
    "# Assign measure_dispersion\n",
    "measure_dispersion = np.std(sales, ddof=1) # Sample standard deviation\n",
    "\n",
    "# Calculate the IQR\n",
    "q1 = np.percentile(sales, 25)\n",
    "q3 = np.percentile(sales, 75)\n",
    "\n",
    "iqr = q3 - q1\n",
    "print(f\"\"\"\n",
    "The standard deviation of sales is {measure_dispersion} thousand widgets\n",
    "The interquartile range of sales is {iqr} thousand widgets\n",
    "\"\"\")\n",
    "\n",
    "# Calculate the MAD\n",
    "mad = median_abs_deviation(sales, scale='normal')\n",
    "print(f\"\"\"\n",
    "The mean absolute deviation of sales is {mad} thousand widgets\n",
    "\"\"\")"
   ]
  },
  {
   "cell_type": "markdown",
   "id": "51189b11",
   "metadata": {},
   "source": [
    "## Step 6"
   ]
  },
  {
   "cell_type": "markdown",
   "id": "e3bc9f6f",
   "metadata": {},
   "source": [
    "How much has the company characteristically been spending on different advertising media (TV, radio, and newspaper) across the different markets for the past year? Calculate the median expenditure for each media:"
   ]
  },
  {
   "cell_type": "code",
   "execution_count": null,
   "id": "faa34931",
   "metadata": {
    "ExecuteTime": {
     "end_time": "2024-07-09T15:55:11.576644Z",
     "start_time": "2024-07-09T15:55:11.129Z"
    }
   },
   "outputs": [
    {
     "name": "stdout",
     "output_type": "stream",
     "text": [
      "\n",
      "The median TV expenditure is 149.75 thousand dollars\n",
      "The median radio expenditure is 22.9 thousand dollars\n",
      "The median newspaper expenditure is 25.75 thousand dollars\n",
      "\n"
     ]
    },
    {
     "data": {
      "text/plain": [
       "(149.75, 22.9, 25.75)"
      ]
     },
     "execution_count": 14,
     "metadata": {},
     "output_type": "execute_result"
    }
   ],
   "source": [
    "# CodeGrade step6\n",
    "# Replace None with appropriate code\n",
    "\n",
    "# calculate median tv expenditure\n",
    "median_tv_expenditure = median(tv)\n",
    "\n",
    "# calculate median radio expenditure\n",
    "median_radio_expenditure = median(radio)\n",
    "\n",
    "# calculate median newspaper expenditure\n",
    "median_newspaper_expenditure = median(newspaper)   \n",
    "\n",
    "print(f\"\"\"\n",
    "The median TV expenditure is {median_tv_expenditure} thousand dollars\n",
    "The median radio expenditure is {median_radio_expenditure} thousand dollars\n",
    "The median newspaper expenditure is {median_newspaper_expenditure} thousand dollars\n",
    "\"\"\")\n",
    "\n",
    "median_tv_expenditure, median_radio_expenditure, median_newspaper_expenditure"
   ]
  },
  {
   "cell_type": "markdown",
   "id": "67ec5738",
   "metadata": {},
   "source": [
    "## Step 7"
   ]
  },
  {
   "cell_type": "markdown",
   "id": "fe8a076c",
   "metadata": {},
   "source": [
    "How much has the company characteristically been spending on different advertising media (TV, radio, and newspaper) across the different markets for the past year? Calculate the IQR for each media:"
   ]
  },
  {
   "cell_type": "code",
   "execution_count": 16,
   "id": "a2ae1a1c",
   "metadata": {
    "ExecuteTime": {
     "end_time": "2024-07-09T15:55:11.577204Z",
     "start_time": "2024-07-09T15:55:11.130Z"
    }
   },
   "outputs": [
    {
     "name": "stdout",
     "output_type": "stream",
     "text": [
      "\n",
      "The IQR for TV expenditure is 144.45 thousand dollars\n",
      "The IQR for radio expenditure is 26.549999999999997 thousand dollars\n",
      "The IQR for newspaper expenditure is 32.35 thousand dollars\n",
      "\n"
     ]
    },
    {
     "data": {
      "text/plain": [
       "(np.float64(144.45), np.float64(26.549999999999997), np.float64(32.35))"
      ]
     },
     "execution_count": 16,
     "metadata": {},
     "output_type": "execute_result"
    }
   ],
   "source": [
    "# CodeGrade step7\n",
    "# Replace None with appropriate code\n",
    "\n",
    "# make any imports here\n",
    "import numpy as np\n",
    "\n",
    "# calculate IQR for TV expenditure\n",
    "q1_tv = np.percentile(tv, 25)\n",
    "q3_tv = np.percentile(tv, 75)\n",
    "iqr_tv_expenditure = q3_tv - q1_tv\n",
    "\n",
    "# calculate IQR for radio expenditure\n",
    "q1_radio = np.percentile(radio, 25)\n",
    "q3_radio = np.percentile(radio, 75)\n",
    "iqr_radio_expenditure = q3_radio - q1_radio\n",
    "\n",
    "# calculate IQR for newspaper expenditure\n",
    "q1_newspaper = np.percentile(newspaper, 25)\n",
    "q3_newspaper = np.percentile(newspaper, 75)\n",
    "iqr_newspaper_expenditure = q3_newspaper - q1_newspaper\n",
    "\n",
    "print(f\"\"\"\n",
    "The IQR for TV expenditure is {iqr_tv_expenditure} thousand dollars\n",
    "The IQR for radio expenditure is {iqr_radio_expenditure} thousand dollars\n",
    "The IQR for newspaper expenditure is {iqr_newspaper_expenditure} thousand dollars\n",
    "\"\"\")\n",
    "iqr_tv_expenditure, iqr_radio_expenditure, iqr_newspaper_expenditure"
   ]
  },
  {
   "cell_type": "markdown",
   "id": "82f6644c",
   "metadata": {},
   "source": [
    "### Summary"
   ]
  },
  {
   "cell_type": "markdown",
   "id": "efb2de63",
   "metadata": {},
   "source": [
    "In this lab you were able to:\n",
    "- Calculate central tendency within a variable in Python\n",
    "- Create visualizations to showcase central tendency\n",
    "- Compare variables by their central tendency\n",
    "- Calculate dispersion within a variable"
   ]
  }
 ],
 "metadata": {
  "kernelspec": {
   "display_name": "Python 3",
   "language": "python",
   "name": "python3"
  },
  "language_info": {
   "codemirror_mode": {
    "name": "ipython",
    "version": 3
   },
   "file_extension": ".py",
   "mimetype": "text/x-python",
   "name": "python",
   "nbconvert_exporter": "python",
   "pygments_lexer": "ipython3",
   "version": "3.12.9"
  },
  "toc": {
   "base_numbering": 1,
   "nav_menu": {},
   "number_sections": true,
   "sideBar": true,
   "skip_h1_title": false,
   "title_cell": "Table of Contents",
   "title_sidebar": "Contents",
   "toc_cell": false,
   "toc_position": {},
   "toc_section_display": true,
   "toc_window_display": false
  }
 },
 "nbformat": 4,
 "nbformat_minor": 5
}
